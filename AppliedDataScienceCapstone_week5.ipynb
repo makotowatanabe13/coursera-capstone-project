{
    "nbformat_minor": 1, 
    "cells": [
        {
            "source": "# Applied Data Science Capstone Week 5 The Battle of Neighborhoods", 
            "cell_type": "markdown", 
            "metadata": {
                "collapsed": true
            }
        }, 
        {
            "source": "## A description of the problem and a discussion of the background", 
            "cell_type": "markdown", 
            "metadata": {}
        }, 
        {
            "source": "I like Ginza area in Japan.\nSo I would like to know neiborhoods that are similar to Ginza of Toronto and NYC.", 
            "cell_type": "markdown", 
            "metadata": {}
        }, 
        {
            "source": "## A description of the data and how it will be used to solve the problem.", 
            "cell_type": "markdown", 
            "metadata": {}
        }, 
        {
            "source": "Retribe venues data of from Foursquare API. Specialy restaurants and shops.\nClustering them.", 
            "cell_type": "markdown", 
            "metadata": {}
        }, 
        {
            "source": "## Data", 
            "cell_type": "markdown", 
            "metadata": {}
        }, 
        {
            "execution_count": 74, 
            "cell_type": "code", 
            "metadata": {}, 
            "outputs": [
                {
                    "output_type": "stream", 
                    "name": "stdout", 
                    "text": "Solving environment: done\n\n# All requested packages already installed.\n\nSolving environment: done\n\n# All requested packages already installed.\n\nLibraries imported.\n"
                }
            ], 
            "source": "import pandas as pd\n\nimport json # library to handle JSON files\n\n!conda install -c conda-forge geopy --yes # uncomment this line if you haven't completed the Foursquare API lab\nfrom geopy.geocoders import Nominatim # convert an address into latitude and longitude values\n\n\n# Matplotlib and associated plotting modules\nimport matplotlib.cm as cm\nimport matplotlib.colors as colors\n\n# import k-means from clustering stage\nfrom sklearn.cluster import KMeans\n\n!conda install -c conda-forge folium=0.5.0 --yes # uncomment this line if you haven't completed the Foursquare API lab\n\n\nfrom botocore.client import Config\nimport ibm_boto3\nimport codecs\n\nprint('Libraries imported.')\npd.set_option('display.max_columns', None)\npd.set_option('display.max_rows', None)"
        }, 
        {
            "execution_count": 75, 
            "cell_type": "code", 
            "metadata": {}, 
            "outputs": [], 
            "source": "# The code was removed by Watson Studio for sharing."
        }, 
        {
            "execution_count": 76, 
            "cell_type": "code", 
            "metadata": {}, 
            "outputs": [], 
            "source": "# The code was removed by Watson Studio for sharing."
        }, 
        {
            "source": "## The geograpical coordinate of Ginza .", 
            "cell_type": "markdown", 
            "metadata": {}
        }, 
        {
            "execution_count": 77, 
            "cell_type": "code", 
            "metadata": {}, 
            "outputs": [], 
            "source": "# ginza_latitude = 35.667\n# ginza_longitude = 139.767"
        }, 
        {
            "source": "## Clustering Venues ", 
            "cell_type": "markdown", 
            "metadata": {}
        }, 
        {
            "source": "I thought that it is better ways to know what neighboorhoods are similar to Ginza that they have similar tier and rating.\nBecause of quotas of Foursquare api, I saved responses and retrive data that I needed from them.", 
            "cell_type": "markdown", 
            "metadata": {}
        }, 
        {
            "execution_count": 78, 
            "cell_type": "code", 
            "metadata": {}, 
            "outputs": [], 
            "source": "def get_object_from_cos(key_name):\n    \"\"\"\n    Get utf-8-sig object from  IBM Cloud Object Storage\n    \"\"\"\n    fileobject = credentials.get_object(Bucket=bucket_name ,Key=key_name)['Body']\n    return fileobject\n\ndef get_json(key_name):\n    \"\"\"\n    read from cos. and parse it as jdon.\n    \n    \n    Parameters\n    ----------\n    key_names : string\n        Key of IBM Cloud Object Storage\n\n    Returns\n    -------\n    json_data : dict\n        dict contain json read\n    \"\"\"\n    file_object = get_object_from_cos(key_name)\n    str_utf8 = codecs.decode(file_object.read(), encoding='utf-8-sig')\n    json_data = json.loads(str_utf8)\n    return json_data\n\ndef create_dataframe_of_venues(_key_names):\n    \"\"\"\n     retrun Dataframe that contains venus.\n\n    Parameters\n    ----------\n    _key_names : list of string\n        list of key of IBM Cloud Object Storage\n\n    Returns\n    -------\n    df_venues : pd.DataFrame\n        DataFrame of venues\n    \"\"\"\n    venues_list = []\n\n    for key_name in _key_names:\n        venues_json = get_json(key_name)\n        for neiborhood_venus in venues_json[\"neighborhoods\"]:\n            for venue in neiborhood_venus[\"venues\"]:\n                venue_col = (neiborhood_venus[\"neighborhood\"],venue[\"id\"],venue[\"name\"],venue[\"rating\"],venue[\"tier\"])\n                venues_list.append( venue_col )\n    df_venues = pd.DataFrame([item for item in venues_list])\n    df_venues.columns = ['Neighborhood', \n                  'Venue Id', \n                  'Venue Nane', \n                  'Venue Rating', \n                  'Venue Tier']\n    return df_venues\n\n\ndef read_neighborhood(key_name):\n    \"\"\"\n     retrun list of neighborhood names\n\n    Parameters\n    ----------\n    key_names : string\n        key of IBM Cloud Object Storage\n\n    Returns\n    -------\n    df_venues : pd.DataFrame\n        DataFrame of venues\n    \"\"\"    \n    json_neighborhoods =  get_json(key_name)\n    return [neighborhood['name']  for neighborhood in json_neighborhoods['Neighborhoods']]"
        }, 
        {
            "execution_count": 79, 
            "cell_type": "code", 
            "metadata": {
                "scrolled": false
            }, 
            "outputs": [
                {
                    "execution_count": 79, 
                    "metadata": {}, 
                    "data": {
                        "text/html": "<div>\n<style scoped>\n    .dataframe tbody tr th:only-of-type {\n        vertical-align: middle;\n    }\n\n    .dataframe tbody tr th {\n        vertical-align: top;\n    }\n\n    .dataframe thead th {\n        text-align: right;\n    }\n</style>\n<table border=\"1\" class=\"dataframe\">\n  <thead>\n    <tr style=\"text-align: right;\">\n      <th></th>\n      <th>Neighborhood</th>\n      <th>Venue Id</th>\n      <th>Venue Nane</th>\n      <th>Venue Rating</th>\n      <th>Venue Tier</th>\n    </tr>\n  </thead>\n  <tbody>\n    <tr>\n      <th>7806</th>\n      <td>Grange Park</td>\n      <td>4b61f9c1f964a520812e2ae3</td>\n      <td>Anh Dao</td>\n      <td>7.8</td>\n      <td>2</td>\n    </tr>\n    <tr>\n      <th>7807</th>\n      <td>Grange Park</td>\n      <td>4f57af17e4b01cdf1e8bfa45</td>\n      <td>Kanto</td>\n      <td>8.0</td>\n      <td>2</td>\n    </tr>\n    <tr>\n      <th>7808</th>\n      <td>Grange Park</td>\n      <td>4ad7e7acf964a520f40f21e3</td>\n      <td>Urban Herbivore</td>\n      <td>8.1</td>\n      <td>2</td>\n    </tr>\n    <tr>\n      <th>7809</th>\n      <td>Grange Park</td>\n      <td>54fce36c498eebc206762bcc</td>\n      <td>Homemade Ramen \u862d\u5dde\u62c9\u9eb5</td>\n      <td>7.4</td>\n      <td>1</td>\n    </tr>\n    <tr>\n      <th>7810</th>\n      <td>Grange Park</td>\n      <td>4e78d6d5091a2a74e0523d83</td>\n      <td>Yummy Yummy Dumpling \u53e3\u53e3\u9999\u9903\u5b50\u9928</td>\n      <td>7.4</td>\n      <td>1</td>\n    </tr>\n    <tr>\n      <th>7811</th>\n      <td>Grange Park</td>\n      <td>4adb5472f964a520fc2521e3</td>\n      <td>Asian Legend \u5473\u9999\u6751</td>\n      <td>7.9</td>\n      <td>2</td>\n    </tr>\n    <tr>\n      <th>7812</th>\n      <td>Grange Park</td>\n      <td>503fb59ce4b050691ba405a3</td>\n      <td>Gushi</td>\n      <td>7.7</td>\n      <td>2</td>\n    </tr>\n    <tr>\n      <th>7813</th>\n      <td>Grange Park</td>\n      <td>4b7716a9f964a520297c2ee3</td>\n      <td>Mother's Dumplings</td>\n      <td>7.9</td>\n      <td>1</td>\n    </tr>\n    <tr>\n      <th>7814</th>\n      <td>Grange Park</td>\n      <td>4ae348cef964a520dd9221e3</td>\n      <td>KOS</td>\n      <td>6.1</td>\n      <td>1</td>\n    </tr>\n    <tr>\n      <th>7815</th>\n      <td>Grange Park</td>\n      <td>50e6282de4b026ac78e0ee70</td>\n      <td>Pho Tien</td>\n      <td>5.8</td>\n      <td>2</td>\n    </tr>\n  </tbody>\n</table>\n</div>", 
                        "text/plain": "     Neighborhood                  Venue Id                   Venue Nane  \\\n7806  Grange Park  4b61f9c1f964a520812e2ae3                      Anh Dao   \n7807  Grange Park  4f57af17e4b01cdf1e8bfa45                        Kanto   \n7808  Grange Park  4ad7e7acf964a520f40f21e3              Urban Herbivore   \n7809  Grange Park  54fce36c498eebc206762bcc          Homemade Ramen \u862d\u5dde\u62c9\u9eb5   \n7810  Grange Park  4e78d6d5091a2a74e0523d83  Yummy Yummy Dumpling \u53e3\u53e3\u9999\u9903\u5b50\u9928   \n7811  Grange Park  4adb5472f964a520fc2521e3             Asian Legend \u5473\u9999\u6751   \n7812  Grange Park  503fb59ce4b050691ba405a3                        Gushi   \n7813  Grange Park  4b7716a9f964a520297c2ee3           Mother's Dumplings   \n7814  Grange Park  4ae348cef964a520dd9221e3                          KOS   \n7815  Grange Park  50e6282de4b026ac78e0ee70                     Pho Tien   \n\n      Venue Rating  Venue Tier  \n7806           7.8           2  \n7807           8.0           2  \n7808           8.1           2  \n7809           7.4           1  \n7810           7.4           1  \n7811           7.9           2  \n7812           7.7           2  \n7813           7.9           1  \n7814           6.1           1  \n7815           5.8           2  "
                    }, 
                    "output_type": "execute_result"
                }
            ], 
            "source": "df_venues=create_dataframe_of_venues(key_names)\ndf_venues.tail(10)"
        }, 
        {
            "execution_count": 80, 
            "cell_type": "code", 
            "metadata": {}, 
            "outputs": [
                {
                    "output_type": "stream", 
                    "name": "stdout", 
                    "text": "k=1\n kmeans_result.labels_.shape = (7816,)\n kmeans_result.labels_ = [0 0 0 ... 0 0 0]\n kmeans_result.inertia_ = 825.8176077117453\nk=2\n kmeans_result.labels_.shape = (7816,)\n kmeans_result.labels_ = [1 0 0 ... 1 1 0]\n kmeans_result.inertia_ = 432.23126337061603\nk=3\n kmeans_result.labels_.shape = (7816,)\n kmeans_result.labels_ = [0 1 2 ... 0 0 1]\n kmeans_result.inertia_ = 286.94444925375717\nk=4\n kmeans_result.labels_.shape = (7816,)\n kmeans_result.labels_ = [3 0 2 ... 3 1 1]\n kmeans_result.inertia_ = 178.3844356147369\nk=5\n kmeans_result.labels_.shape = (7816,)\n kmeans_result.labels_ = [2 1 3 ... 2 0 4]\n kmeans_result.inertia_ = 122.34535645096653\nk=6\n kmeans_result.labels_.shape = (7816,)\n kmeans_result.labels_ = [0 1 5 ... 0 4 3]\n kmeans_result.inertia_ = 99.3999783482466\nk=7\n kmeans_result.labels_.shape = (7816,)\n kmeans_result.labels_ = [1 2 6 ... 1 4 3]\n kmeans_result.inertia_ = 80.08036251900168\nk=8\n kmeans_result.labels_.shape = (7816,)\n kmeans_result.labels_ = [3 1 0 ... 3 2 5]\n kmeans_result.inertia_ = 62.361329087312264\nk=9\n kmeans_result.labels_.shape = (7816,)\n kmeans_result.labels_ = [0 1 8 ... 0 4 5]\n kmeans_result.inertia_ = 49.30409879970176\nk=10\n kmeans_result.labels_.shape = (7816,)\n kmeans_result.labels_ = [7 4 8 ... 0 3 6]\n kmeans_result.inertia_ = 42.400460124335495\nk=11\n kmeans_result.labels_.shape = (7816,)\n kmeans_result.labels_ = [7 8 6 ... 0 3 5]\n kmeans_result.inertia_ = 35.528031819694526\nk=12\n kmeans_result.labels_.shape = (7816,)\n kmeans_result.labels_ = [ 2  5  3 ...  7 10  6]\n kmeans_result.inertia_ = 30.972660757651084\n"
                }
            ], 
            "source": "df_data = df_venues.drop(columns=['Neighborhood','Venue Id','Venue Nane'],axis='columns')\n\nmin_max_scaler = preprocessing.MinMaxScaler()\nnp_venues = min_max_scaler.fit_transform(df_data.values)\n\nfor k in range(1,12):\n    kmeans = KMeans(n_clusters=k, random_state=0)\n    kmeans_result = kmeans.fit(np_venues)\n    print(\"k={}\".format(k))\n    print(\" kmeans_result.labels_.shape = \"+str(kmeans_result.labels_.shape))\n    print(\" kmeans_result.labels_ = \"+str(kmeans_result.labels_))\n    print(\" kmeans_result.inertia_ = \"+str(kmeans_result.inertia_))\n"
        }, 
        {
            "execution_count": 81, 
            "cell_type": "code", 
            "metadata": {}, 
            "outputs": [
                {
                    "execution_count": 81, 
                    "metadata": {}, 
                    "data": {
                        "text/html": "<div>\n<style scoped>\n    .dataframe tbody tr th:only-of-type {\n        vertical-align: middle;\n    }\n\n    .dataframe tbody tr th {\n        vertical-align: top;\n    }\n\n    .dataframe thead th {\n        text-align: right;\n    }\n</style>\n<table border=\"1\" class=\"dataframe\">\n  <thead>\n    <tr style=\"text-align: right;\">\n      <th></th>\n      <th>Neighborhood</th>\n      <th>Venue Id</th>\n      <th>Venue Nane</th>\n      <th>Venue Rating</th>\n      <th>Venue Tier</th>\n      <th>Cluster Labels</th>\n    </tr>\n  </thead>\n  <tbody>\n    <tr>\n      <th>0</th>\n      <td>Ginza</td>\n      <td>4bb5ea01941ad13a2aa21ee3</td>\n      <td>Grill Bon (\u65b0\u4e16\u754c \u30b0\u30ea\u30eb\u68b5)</td>\n      <td>9.0</td>\n      <td>1</td>\n      <td>2</td>\n    </tr>\n    <tr>\n      <th>1</th>\n      <td>Ginza</td>\n      <td>4b5d1a37f964a520c15229e3</td>\n      <td>Ku-ta (\u98ef\u5bb6\u304f\u30fc\u305f)</td>\n      <td>8.9</td>\n      <td>2</td>\n      <td>1</td>\n    </tr>\n    <tr>\n      <th>2</th>\n      <td>Ginza</td>\n      <td>4c4859db1ddec9289235a032</td>\n      <td>Ginza Ukai-tei (\u9280\u5ea7 \u3046\u304b\u3044\u4ead)</td>\n      <td>8.4</td>\n      <td>4</td>\n      <td>3</td>\n    </tr>\n    <tr>\n      <th>3</th>\n      <td>Ginza</td>\n      <td>4c525974d797e21e9bb18f7d</td>\n      <td>Ginza Gyuan (\u9280\u5ea7 \u725b\u5eb5)</td>\n      <td>8.5</td>\n      <td>4</td>\n      <td>3</td>\n    </tr>\n    <tr>\n      <th>4</th>\n      <td>Ginza</td>\n      <td>4b766874f964a520594b2ee3</td>\n      <td>Sushizanmai Okunoin (\u3059\u3057\u3056\u3093\u307e\u3044 \u5965\u306e\u9662)</td>\n      <td>8.1</td>\n      <td>2</td>\n      <td>1</td>\n    </tr>\n    <tr>\n      <th>5</th>\n      <td>Ginza</td>\n      <td>4c36fcf693db0f4764ec1e92</td>\n      <td>\u3059\u3057\u3056\u3093\u307e\u3044 \u65b0\u9928</td>\n      <td>7.9</td>\n      <td>2</td>\n      <td>1</td>\n    </tr>\n    <tr>\n      <th>6</th>\n      <td>Ginza</td>\n      <td>4d259f871d9fa1cd61234109</td>\n      <td>Chika no Iki (\u5730\u4e0b\u306e\u7c8b)</td>\n      <td>8.3</td>\n      <td>2</td>\n      <td>1</td>\n    </tr>\n    <tr>\n      <th>7</th>\n      <td>Ginza</td>\n      <td>4b65376cf964a52048e92ae3</td>\n      <td>Nair's Restaurant (\u30ca\u30a4\u30eb\u30ec\u30b9\u30c8\u30e9\u30f3)</td>\n      <td>8.7</td>\n      <td>2</td>\n      <td>1</td>\n    </tr>\n    <tr>\n      <th>8</th>\n      <td>Ginza</td>\n      <td>4b59bab9f964a520fc9428e3</td>\n      <td>Sushizanmai (\u3059\u3057\u3056\u3093\u307e\u3044 \u672c\u5e97)</td>\n      <td>8.9</td>\n      <td>2</td>\n      <td>1</td>\n    </tr>\n    <tr>\n      <th>9</th>\n      <td>Ginza</td>\n      <td>4d72073c311f6ea80175d5ea</td>\n      <td>Tsukiji Itadori Bekkan (\u7bc9\u5730\u864e\u6756 \u5225\u9928)</td>\n      <td>9.0</td>\n      <td>2</td>\n      <td>1</td>\n    </tr>\n  </tbody>\n</table>\n</div>", 
                        "text/plain": "  Neighborhood                  Venue Id                        Venue Nane  \\\n0        Ginza  4bb5ea01941ad13a2aa21ee3              Grill Bon (\u65b0\u4e16\u754c \u30b0\u30ea\u30eb\u68b5)   \n1        Ginza  4b5d1a37f964a520c15229e3                     Ku-ta (\u98ef\u5bb6\u304f\u30fc\u305f)   \n2        Ginza  4c4859db1ddec9289235a032          Ginza Ukai-tei (\u9280\u5ea7 \u3046\u304b\u3044\u4ead)   \n3        Ginza  4c525974d797e21e9bb18f7d               Ginza Gyuan (\u9280\u5ea7 \u725b\u5eb5)   \n4        Ginza  4b766874f964a520594b2ee3  Sushizanmai Okunoin (\u3059\u3057\u3056\u3093\u307e\u3044 \u5965\u306e\u9662)   \n5        Ginza  4c36fcf693db0f4764ec1e92                         \u3059\u3057\u3056\u3093\u307e\u3044 \u65b0\u9928   \n6        Ginza  4d259f871d9fa1cd61234109               Chika no Iki (\u5730\u4e0b\u306e\u7c8b)   \n7        Ginza  4b65376cf964a52048e92ae3      Nair's Restaurant (\u30ca\u30a4\u30eb\u30ec\u30b9\u30c8\u30e9\u30f3)   \n8        Ginza  4b59bab9f964a520fc9428e3           Sushizanmai (\u3059\u3057\u3056\u3093\u307e\u3044 \u672c\u5e97)   \n9        Ginza  4d72073c311f6ea80175d5ea  Tsukiji Itadori Bekkan (\u7bc9\u5730\u864e\u6756 \u5225\u9928)   \n\n   Venue Rating  Venue Tier  Cluster Labels  \n0           9.0           1               2  \n1           8.9           2               1  \n2           8.4           4               3  \n3           8.5           4               3  \n4           8.1           2               1  \n5           7.9           2               1  \n6           8.3           2               1  \n7           8.7           2               1  \n8           8.9           2               1  \n9           9.0           2               1  "
                    }, 
                    "output_type": "execute_result"
                }
            ], 
            "source": "k_neighbors = 8\n\nk_venues=5\n\nkmeans = KMeans(n_clusters=k_venues, random_state=0)\nkmeans_result = kmeans.fit(np_venues)\n\ndf_venues['Cluster Labels'] = kmeans_result.labels_\ndf_venues.head(10)"
        }, 
        {
            "source": "## Toront's neigborhoods and Ginza.\nTry to get neighboorhood in Toronto that is similar to Ginza.", 
            "cell_type": "markdown", 
            "metadata": {}
        }, 
        {
            "execution_count": 82, 
            "cell_type": "code", 
            "metadata": {}, 
            "outputs": [
                {
                    "output_type": "stream", 
                    "name": "stdout", 
                    "text": "(73, 6)\n"
                }, 
                {
                    "execution_count": 82, 
                    "metadata": {}, 
                    "data": {
                        "text/html": "<div>\n<style scoped>\n    .dataframe tbody tr th:only-of-type {\n        vertical-align: middle;\n    }\n\n    .dataframe tbody tr th {\n        vertical-align: top;\n    }\n\n    .dataframe thead th {\n        text-align: right;\n    }\n</style>\n<table border=\"1\" class=\"dataframe\">\n  <thead>\n    <tr style=\"text-align: right;\">\n      <th></th>\n      <th>Neighborhoods</th>\n      <th>venue 0</th>\n      <th>venue 1</th>\n      <th>venue 2</th>\n      <th>venue 3</th>\n      <th>venue 4</th>\n    </tr>\n  </thead>\n  <tbody>\n    <tr>\n      <th>0</th>\n      <td>Ginza</td>\n      <td>0</td>\n      <td>46</td>\n      <td>13</td>\n      <td>11</td>\n      <td>1</td>\n    </tr>\n    <tr>\n      <th>1</th>\n      <td>Kensington Market</td>\n      <td>1</td>\n      <td>22</td>\n      <td>32</td>\n      <td>0</td>\n      <td>1</td>\n    </tr>\n    <tr>\n      <th>2</th>\n      <td>The Junction South</td>\n      <td>6</td>\n      <td>3</td>\n      <td>1</td>\n      <td>0</td>\n      <td>2</td>\n    </tr>\n    <tr>\n      <th>3</th>\n      <td>Forest Hill SE</td>\n      <td>3</td>\n      <td>1</td>\n      <td>0</td>\n      <td>0</td>\n      <td>2</td>\n    </tr>\n    <tr>\n      <th>4</th>\n      <td>Moore Park</td>\n      <td>0</td>\n      <td>0</td>\n      <td>0</td>\n      <td>0</td>\n      <td>0</td>\n    </tr>\n  </tbody>\n</table>\n</div>", 
                        "text/plain": "        Neighborhoods  venue 0  venue 1  venue 2  venue 3  venue 4\n0               Ginza        0       46       13       11        1\n1   Kensington Market        1       22       32        0        1\n2  The Junction South        6        3        1        0        2\n3      Forest Hill SE        3        1        0        0        2\n4          Moore Park        0        0        0        0        0"
                    }, 
                    "output_type": "execute_result"
                }
            ], 
            "source": "# NYC_neighborhoods.json  toronto_neighborhoods.json\nneighborfoods_t_g = read_neighborhood(toronto_neighborhoods_key)\n\nneighborfoods_t_g = ['Ginza'] + neighborfoods_t_g\n\ndict_toronto_ginza = {'Neighborhoods':neighborfoods_t_g}\n# Add venues' in Ginza area to Toront neighborhood venues.\nfor i in range(k_venues):\n    dict_toronto_ginza['venue {}'.format(i)]=[0 for j in range( len(neighborfoods_t_g) )]\n                   \ndf_toronto_ginza = pd.DataFrame(dict_toronto_ginza)\n\nfor index, row in df_venues.iterrows():\n    df_toronto_ginza.loc[df_toronto_ginza['Neighborhoods'] == row['Neighborhood'], 'venue {}'.format(row['Cluster Labels']  )] += 1\nprint(df_toronto_ginza.shape)\ndf_toronto_ginza.head()"
        }, 
        {
            "execution_count": 83, 
            "cell_type": "code", 
            "metadata": {
                "scrolled": true
            }, 
            "outputs": [
                {
                    "output_type": "stream", 
                    "name": "stdout", 
                    "text": "['Neighborhoods', 'Cluster', 'venue 0', 'venue 1', 'venue 2', 'venue 3', 'venue 4']\n"
                }, 
                {
                    "execution_count": 83, 
                    "metadata": {}, 
                    "data": {
                        "text/html": "<div>\n<style scoped>\n    .dataframe tbody tr th:only-of-type {\n        vertical-align: middle;\n    }\n\n    .dataframe tbody tr th {\n        vertical-align: top;\n    }\n\n    .dataframe thead th {\n        text-align: right;\n    }\n</style>\n<table border=\"1\" class=\"dataframe\">\n  <thead>\n    <tr style=\"text-align: right;\">\n      <th></th>\n      <th>Neighborhoods</th>\n      <th>Cluster</th>\n      <th>venue 0</th>\n      <th>venue 1</th>\n      <th>venue 2</th>\n      <th>venue 3</th>\n      <th>venue 4</th>\n    </tr>\n  </thead>\n  <tbody>\n    <tr>\n      <th>0</th>\n      <td>Ginza</td>\n      <td>7</td>\n      <td>0</td>\n      <td>46</td>\n      <td>13</td>\n      <td>11</td>\n      <td>1</td>\n    </tr>\n    <tr>\n      <th>1</th>\n      <td>Kensington Market</td>\n      <td>5</td>\n      <td>1</td>\n      <td>22</td>\n      <td>32</td>\n      <td>0</td>\n      <td>1</td>\n    </tr>\n    <tr>\n      <th>2</th>\n      <td>The Junction South</td>\n      <td>0</td>\n      <td>6</td>\n      <td>3</td>\n      <td>1</td>\n      <td>0</td>\n      <td>2</td>\n    </tr>\n    <tr>\n      <th>3</th>\n      <td>Forest Hill SE</td>\n      <td>3</td>\n      <td>3</td>\n      <td>1</td>\n      <td>0</td>\n      <td>0</td>\n      <td>2</td>\n    </tr>\n    <tr>\n      <th>4</th>\n      <td>Moore Park</td>\n      <td>3</td>\n      <td>0</td>\n      <td>0</td>\n      <td>0</td>\n      <td>0</td>\n      <td>0</td>\n    </tr>\n    <tr>\n      <th>5</th>\n      <td>Rathnelly</td>\n      <td>3</td>\n      <td>3</td>\n      <td>1</td>\n      <td>0</td>\n      <td>0</td>\n      <td>2</td>\n    </tr>\n    <tr>\n      <th>6</th>\n      <td>The Beaches West</td>\n      <td>3</td>\n      <td>2</td>\n      <td>1</td>\n      <td>1</td>\n      <td>0</td>\n      <td>4</td>\n    </tr>\n    <tr>\n      <th>7</th>\n      <td>Trinity</td>\n      <td>6</td>\n      <td>2</td>\n      <td>17</td>\n      <td>9</td>\n      <td>5</td>\n      <td>5</td>\n    </tr>\n    <tr>\n      <th>8</th>\n      <td>Ryerson</td>\n      <td>4</td>\n      <td>21</td>\n      <td>18</td>\n      <td>13</td>\n      <td>4</td>\n      <td>20</td>\n    </tr>\n    <tr>\n      <th>9</th>\n      <td>Roncesvalles</td>\n      <td>3</td>\n      <td>1</td>\n      <td>3</td>\n      <td>0</td>\n      <td>1</td>\n      <td>1</td>\n    </tr>\n  </tbody>\n</table>\n</div>", 
                        "text/plain": "        Neighborhoods  Cluster  venue 0  venue 1  venue 2  venue 3  venue 4\n0               Ginza        7        0       46       13       11        1\n1   Kensington Market        5        1       22       32        0        1\n2  The Junction South        0        6        3        1        0        2\n3      Forest Hill SE        3        3        1        0        0        2\n4          Moore Park        3        0        0        0        0        0\n5           Rathnelly        3        3        1        0        0        2\n6    The Beaches West        3        2        1        1        0        4\n7             Trinity        6        2       17        9        5        5\n8             Ryerson        4       21       18       13        4       20\n9        Roncesvalles        3        1        3        0        1        1"
                    }, 
                    "output_type": "execute_result"
                }
            ], 
            "source": "# Drop a column\ndf_toronto_ginza=df_toronto_ginza.drop(columns=['Neighborhoods'],axis='columns')\n\nkmeans = KMeans(n_clusters=k_neighbors, random_state = 0)\nkmeans_result = kmeans.fit(df_toronto_ginza)\ndf_toronto_ginza['Neighborhoods'] = neighborfoods_t_g\ndf_toronto_ginza['Cluster'] = kmeans_result.labels_\nfixed_columns = list(df_toronto_ginza.columns[-2:]) + list(df_toronto_ginza.columns[:-2])\n\ndf_toronto_ginza = df_toronto_ginza[fixed_columns]\ndf_toronto_ginza.head(10)"
        }, 
        {
            "execution_count": 84, 
            "cell_type": "code", 
            "metadata": {
                "scrolled": false
            }, 
            "outputs": [
                {
                    "execution_count": 84, 
                    "metadata": {}, 
                    "data": {
                        "text/html": "<div>\n<style scoped>\n    .dataframe tbody tr th:only-of-type {\n        vertical-align: middle;\n    }\n\n    .dataframe tbody tr th {\n        vertical-align: top;\n    }\n\n    .dataframe thead th {\n        text-align: right;\n    }\n</style>\n<table border=\"1\" class=\"dataframe\">\n  <thead>\n    <tr style=\"text-align: right;\">\n      <th></th>\n      <th>Neighborhoods</th>\n      <th>Cluster</th>\n      <th>venue 0</th>\n      <th>venue 1</th>\n      <th>venue 2</th>\n      <th>venue 3</th>\n      <th>venue 4</th>\n    </tr>\n  </thead>\n  <tbody>\n    <tr>\n      <th>0</th>\n      <td>Ginza</td>\n      <td>7</td>\n      <td>0</td>\n      <td>46</td>\n      <td>13</td>\n      <td>11</td>\n      <td>1</td>\n    </tr>\n  </tbody>\n</table>\n</div>", 
                        "text/plain": "  Neighborhoods  Cluster  venue 0  venue 1  venue 2  venue 3  venue 4\n0         Ginza        7        0       46       13       11        1"
                    }, 
                    "output_type": "execute_result"
                }
            ], 
            "source": "# Show Gibza and neighborhood(s) of Toronto that is similar to Ginza.\ndf_toronto_ginza[df_toronto_ginza.Cluster == df_toronto_ginza.iloc[0].Cluster]"
        }, 
        {
            "source": "It seems there is no neighborhood that is similar to Ginza in Toronto.", 
            "cell_type": "markdown", 
            "metadata": {}
        }, 
        {
            "source": "## NYC's neighborhoods and Ginza.\nTry to get neighboorhood in NYC that is similar to Ginza.", 
            "cell_type": "markdown", 
            "metadata": {}
        }, 
        {
            "execution_count": 85, 
            "cell_type": "code", 
            "metadata": {}, 
            "outputs": [
                {
                    "output_type": "stream", 
                    "name": "stdout", 
                    "text": "(307, 6)\n"
                }, 
                {
                    "execution_count": 85, 
                    "metadata": {}, 
                    "data": {
                        "text/html": "<div>\n<style scoped>\n    .dataframe tbody tr th:only-of-type {\n        vertical-align: middle;\n    }\n\n    .dataframe tbody tr th {\n        vertical-align: top;\n    }\n\n    .dataframe thead th {\n        text-align: right;\n    }\n</style>\n<table border=\"1\" class=\"dataframe\">\n  <thead>\n    <tr style=\"text-align: right;\">\n      <th></th>\n      <th>Neighborhoods</th>\n      <th>venue 0</th>\n      <th>venue 1</th>\n      <th>venue 2</th>\n      <th>venue 3</th>\n      <th>venue 4</th>\n    </tr>\n  </thead>\n  <tbody>\n    <tr>\n      <th>0</th>\n      <td>Ginza</td>\n      <td>0</td>\n      <td>46</td>\n      <td>13</td>\n      <td>11</td>\n      <td>1</td>\n    </tr>\n    <tr>\n      <th>1</th>\n      <td>Wakefield</td>\n      <td>2</td>\n      <td>0</td>\n      <td>0</td>\n      <td>0</td>\n      <td>1</td>\n    </tr>\n    <tr>\n      <th>2</th>\n      <td>Co-op City</td>\n      <td>2</td>\n      <td>0</td>\n      <td>0</td>\n      <td>0</td>\n      <td>1</td>\n    </tr>\n    <tr>\n      <th>3</th>\n      <td>Eastchester</td>\n      <td>4</td>\n      <td>1</td>\n      <td>3</td>\n      <td>1</td>\n      <td>1</td>\n    </tr>\n    <tr>\n      <th>4</th>\n      <td>Fieldston</td>\n      <td>0</td>\n      <td>0</td>\n      <td>0</td>\n      <td>0</td>\n      <td>0</td>\n    </tr>\n    <tr>\n      <th>5</th>\n      <td>Riverdale</td>\n      <td>3</td>\n      <td>9</td>\n      <td>4</td>\n      <td>2</td>\n      <td>14</td>\n    </tr>\n    <tr>\n      <th>6</th>\n      <td>Kingsbridge</td>\n      <td>10</td>\n      <td>6</td>\n      <td>10</td>\n      <td>0</td>\n      <td>4</td>\n    </tr>\n    <tr>\n      <th>7</th>\n      <td>Marble Hill</td>\n      <td>4</td>\n      <td>1</td>\n      <td>3</td>\n      <td>1</td>\n      <td>1</td>\n    </tr>\n    <tr>\n      <th>8</th>\n      <td>Woodlawn</td>\n      <td>2</td>\n      <td>2</td>\n      <td>2</td>\n      <td>0</td>\n      <td>0</td>\n    </tr>\n    <tr>\n      <th>9</th>\n      <td>Norwood</td>\n      <td>7</td>\n      <td>0</td>\n      <td>3</td>\n      <td>0</td>\n      <td>2</td>\n    </tr>\n    <tr>\n      <th>10</th>\n      <td>Williamsbridge</td>\n      <td>0</td>\n      <td>0</td>\n      <td>1</td>\n      <td>0</td>\n      <td>1</td>\n    </tr>\n    <tr>\n      <th>11</th>\n      <td>Baychester</td>\n      <td>6</td>\n      <td>1</td>\n      <td>0</td>\n      <td>0</td>\n      <td>2</td>\n    </tr>\n    <tr>\n      <th>12</th>\n      <td>Pelham Parkway</td>\n      <td>1</td>\n      <td>1</td>\n      <td>4</td>\n      <td>1</td>\n      <td>1</td>\n    </tr>\n    <tr>\n      <th>13</th>\n      <td>City Island</td>\n      <td>1</td>\n      <td>2</td>\n      <td>1</td>\n      <td>2</td>\n      <td>0</td>\n    </tr>\n    <tr>\n      <th>14</th>\n      <td>Bedford Park</td>\n      <td>6</td>\n      <td>2</td>\n      <td>4</td>\n      <td>0</td>\n      <td>3</td>\n    </tr>\n    <tr>\n      <th>15</th>\n      <td>University Heights</td>\n      <td>7</td>\n      <td>0</td>\n      <td>0</td>\n      <td>1</td>\n      <td>1</td>\n    </tr>\n    <tr>\n      <th>16</th>\n      <td>Morris Heights</td>\n      <td>1</td>\n      <td>0</td>\n      <td>1</td>\n      <td>0</td>\n      <td>1</td>\n    </tr>\n    <tr>\n      <th>17</th>\n      <td>Fordham</td>\n      <td>15</td>\n      <td>2</td>\n      <td>10</td>\n      <td>1</td>\n      <td>5</td>\n    </tr>\n    <tr>\n      <th>18</th>\n      <td>East Tremont</td>\n      <td>5</td>\n      <td>1</td>\n      <td>2</td>\n      <td>0</td>\n      <td>0</td>\n    </tr>\n    <tr>\n      <th>19</th>\n      <td>West Farms</td>\n      <td>3</td>\n      <td>0</td>\n      <td>1</td>\n      <td>0</td>\n      <td>0</td>\n    </tr>\n  </tbody>\n</table>\n</div>", 
                        "text/plain": "         Neighborhoods  venue 0  venue 1  venue 2  venue 3  venue 4\n0                Ginza        0       46       13       11        1\n1            Wakefield        2        0        0        0        1\n2           Co-op City        2        0        0        0        1\n3          Eastchester        4        1        3        1        1\n4            Fieldston        0        0        0        0        0\n5            Riverdale        3        9        4        2       14\n6          Kingsbridge       10        6       10        0        4\n7          Marble Hill        4        1        3        1        1\n8             Woodlawn        2        2        2        0        0\n9              Norwood        7        0        3        0        2\n10      Williamsbridge        0        0        1        0        1\n11          Baychester        6        1        0        0        2\n12      Pelham Parkway        1        1        4        1        1\n13         City Island        1        2        1        2        0\n14        Bedford Park        6        2        4        0        3\n15  University Heights        7        0        0        1        1\n16      Morris Heights        1        0        1        0        1\n17             Fordham       15        2       10        1        5\n18        East Tremont        5        1        2        0        0\n19          West Farms        3        0        1        0        0"
                    }, 
                    "output_type": "execute_result"
                }
            ], 
            "source": "# NYC_neighborhoods.json \nneighborfoods_n_g = read_neighborhood(nyc_neighborhoods_key)\n\nneighborfoods_n_g = ['Ginza'] + neighborfoods_n_g\n\ndict_nyc_ginza = {'Neighborhoods':neighborfoods_n_g}\n# Add venues' in Ginza area to NYC neighborhood venues.\nfor i in range(k_venues):\n    dict_nyc_ginza['venue {}'.format(i)]=[0 for j in range( len(neighborfoods_n_g) )]\n                   \ndf_nyc_ginza = pd.DataFrame(dict_nyc_ginza)\n\nfor index, row in df_venues.iterrows():\n    df_nyc_ginza.loc[df_nyc_ginza['Neighborhoods'] == row['Neighborhood'], 'venue {}'.format(row['Cluster Labels']  )] += 1\nprint(df_nyc_ginza.shape)\ndf_nyc_ginza.head(20)"
        }, 
        {
            "execution_count": 86, 
            "cell_type": "code", 
            "metadata": {}, 
            "outputs": [
                {
                    "output_type": "stream", 
                    "name": "stdout", 
                    "text": "['Neighborhoods', 'Cluster', 'venue 0', 'venue 1', 'venue 2', 'venue 3', 'venue 4']\n"
                }, 
                {
                    "execution_count": 86, 
                    "metadata": {}, 
                    "data": {
                        "text/html": "<div>\n<style scoped>\n    .dataframe tbody tr th:only-of-type {\n        vertical-align: middle;\n    }\n\n    .dataframe tbody tr th {\n        vertical-align: top;\n    }\n\n    .dataframe thead th {\n        text-align: right;\n    }\n</style>\n<table border=\"1\" class=\"dataframe\">\n  <thead>\n    <tr style=\"text-align: right;\">\n      <th></th>\n      <th>Neighborhoods</th>\n      <th>Cluster</th>\n      <th>venue 0</th>\n      <th>venue 1</th>\n      <th>venue 2</th>\n      <th>venue 3</th>\n      <th>venue 4</th>\n    </tr>\n  </thead>\n  <tbody>\n    <tr>\n      <th>0</th>\n      <td>Ginza</td>\n      <td>3</td>\n      <td>0</td>\n      <td>46</td>\n      <td>13</td>\n      <td>11</td>\n      <td>1</td>\n    </tr>\n    <tr>\n      <th>1</th>\n      <td>Wakefield</td>\n      <td>0</td>\n      <td>2</td>\n      <td>0</td>\n      <td>0</td>\n      <td>0</td>\n      <td>1</td>\n    </tr>\n    <tr>\n      <th>2</th>\n      <td>Co-op City</td>\n      <td>0</td>\n      <td>2</td>\n      <td>0</td>\n      <td>0</td>\n      <td>0</td>\n      <td>1</td>\n    </tr>\n    <tr>\n      <th>3</th>\n      <td>Eastchester</td>\n      <td>6</td>\n      <td>4</td>\n      <td>1</td>\n      <td>3</td>\n      <td>1</td>\n      <td>1</td>\n    </tr>\n    <tr>\n      <th>4</th>\n      <td>Fieldston</td>\n      <td>0</td>\n      <td>0</td>\n      <td>0</td>\n      <td>0</td>\n      <td>0</td>\n      <td>0</td>\n    </tr>\n    <tr>\n      <th>5</th>\n      <td>Riverdale</td>\n      <td>2</td>\n      <td>3</td>\n      <td>9</td>\n      <td>4</td>\n      <td>2</td>\n      <td>14</td>\n    </tr>\n    <tr>\n      <th>6</th>\n      <td>Kingsbridge</td>\n      <td>2</td>\n      <td>10</td>\n      <td>6</td>\n      <td>10</td>\n      <td>0</td>\n      <td>4</td>\n    </tr>\n    <tr>\n      <th>7</th>\n      <td>Marble Hill</td>\n      <td>6</td>\n      <td>4</td>\n      <td>1</td>\n      <td>3</td>\n      <td>1</td>\n      <td>1</td>\n    </tr>\n    <tr>\n      <th>8</th>\n      <td>Woodlawn</td>\n      <td>0</td>\n      <td>2</td>\n      <td>2</td>\n      <td>2</td>\n      <td>0</td>\n      <td>0</td>\n    </tr>\n    <tr>\n      <th>9</th>\n      <td>Norwood</td>\n      <td>6</td>\n      <td>7</td>\n      <td>0</td>\n      <td>3</td>\n      <td>0</td>\n      <td>2</td>\n    </tr>\n  </tbody>\n</table>\n</div>", 
                        "text/plain": "  Neighborhoods  Cluster  venue 0  venue 1  venue 2  venue 3  venue 4\n0         Ginza        3        0       46       13       11        1\n1     Wakefield        0        2        0        0        0        1\n2    Co-op City        0        2        0        0        0        1\n3   Eastchester        6        4        1        3        1        1\n4     Fieldston        0        0        0        0        0        0\n5     Riverdale        2        3        9        4        2       14\n6   Kingsbridge        2       10        6       10        0        4\n7   Marble Hill        6        4        1        3        1        1\n8      Woodlawn        0        2        2        2        0        0\n9       Norwood        6        7        0        3        0        2"
                    }, 
                    "output_type": "execute_result"
                }
            ], 
            "source": "# Drop a column.\ndf_nyc_ginza=df_nyc_ginza.drop(columns=['Neighborhoods'],axis='columns')\n\nkmeans = KMeans(n_clusters=k_neighbors, random_state=0)\nkmeans_result = kmeans.fit(df_nyc_ginza)\ndf_nyc_ginza['Neighborhoods'] = neighborfoods_n_g\ndf_nyc_ginza['Cluster'] = kmeans_result.labels_\nfixed_columns = list(df_nyc_ginza.columns[-2:]) + list(df_nyc_ginza.columns[:-2])\nprint(str(fixed_columns))\ndf_nyc_ginza = df_nyc_ginza[fixed_columns]\ndf_nyc_ginza.head(10)"
        }, 
        {
            "execution_count": 87, 
            "cell_type": "code", 
            "metadata": {}, 
            "outputs": [
                {
                    "execution_count": 87, 
                    "metadata": {}, 
                    "data": {
                        "text/html": "<div>\n<style scoped>\n    .dataframe tbody tr th:only-of-type {\n        vertical-align: middle;\n    }\n\n    .dataframe tbody tr th {\n        vertical-align: top;\n    }\n\n    .dataframe thead th {\n        text-align: right;\n    }\n</style>\n<table border=\"1\" class=\"dataframe\">\n  <thead>\n    <tr style=\"text-align: right;\">\n      <th></th>\n      <th>Neighborhoods</th>\n      <th>Cluster</th>\n      <th>venue 0</th>\n      <th>venue 1</th>\n      <th>venue 2</th>\n      <th>venue 3</th>\n      <th>venue 4</th>\n    </tr>\n  </thead>\n  <tbody>\n    <tr>\n      <th>0</th>\n      <td>Ginza</td>\n      <td>3</td>\n      <td>0</td>\n      <td>46</td>\n      <td>13</td>\n      <td>11</td>\n      <td>1</td>\n    </tr>\n    <tr>\n      <th>97</th>\n      <td>North Side</td>\n      <td>3</td>\n      <td>0</td>\n      <td>46</td>\n      <td>33</td>\n      <td>12</td>\n      <td>6</td>\n    </tr>\n    <tr>\n      <th>115</th>\n      <td>Midtown</td>\n      <td>3</td>\n      <td>0</td>\n      <td>39</td>\n      <td>35</td>\n      <td>22</td>\n      <td>1</td>\n    </tr>\n    <tr>\n      <th>116</th>\n      <td>Murray Hill</td>\n      <td>3</td>\n      <td>4</td>\n      <td>58</td>\n      <td>25</td>\n      <td>22</td>\n      <td>20</td>\n    </tr>\n    <tr>\n      <th>119</th>\n      <td>East Village</td>\n      <td>3</td>\n      <td>0</td>\n      <td>51</td>\n      <td>27</td>\n      <td>17</td>\n      <td>0</td>\n    </tr>\n    <tr>\n      <th>122</th>\n      <td>Little Italy</td>\n      <td>3</td>\n      <td>0</td>\n      <td>48</td>\n      <td>33</td>\n      <td>17</td>\n      <td>0</td>\n    </tr>\n    <tr>\n      <th>129</th>\n      <td>Financial District</td>\n      <td>3</td>\n      <td>0</td>\n      <td>36</td>\n      <td>46</td>\n      <td>12</td>\n      <td>0</td>\n    </tr>\n    <tr>\n      <th>181</th>\n      <td>Murray Hill</td>\n      <td>3</td>\n      <td>4</td>\n      <td>58</td>\n      <td>25</td>\n      <td>22</td>\n      <td>20</td>\n    </tr>\n    <tr>\n      <th>249</th>\n      <td>Noho</td>\n      <td>3</td>\n      <td>0</td>\n      <td>57</td>\n      <td>29</td>\n      <td>14</td>\n      <td>0</td>\n    </tr>\n    <tr>\n      <th>251</th>\n      <td>Midtown South</td>\n      <td>3</td>\n      <td>0</td>\n      <td>56</td>\n      <td>26</td>\n      <td>16</td>\n      <td>0</td>\n    </tr>\n  </tbody>\n</table>\n</div>", 
                        "text/plain": "          Neighborhoods  Cluster  venue 0  venue 1  venue 2  venue 3  venue 4\n0                 Ginza        3        0       46       13       11        1\n97           North Side        3        0       46       33       12        6\n115             Midtown        3        0       39       35       22        1\n116         Murray Hill        3        4       58       25       22       20\n119        East Village        3        0       51       27       17        0\n122        Little Italy        3        0       48       33       17        0\n129  Financial District        3        0       36       46       12        0\n181         Murray Hill        3        4       58       25       22       20\n249                Noho        3        0       57       29       14        0\n251       Midtown South        3        0       56       26       16        0"
                    }, 
                    "output_type": "execute_result"
                }
            ], 
            "source": "# Show Gibza and neighborhood(s) of NYC that is similar to Ginza.\ndf_nyc_ginza[df_nyc_ginza.Cluster == df_nyc_ginza.iloc[0].Cluster]"
        }, 
        {
            "source": "9 neighborhoods that are similar to Ginza.", 
            "cell_type": "markdown", 
            "metadata": {}
        }, 
        {
            "execution_count": null, 
            "cell_type": "code", 
            "metadata": {}, 
            "outputs": [], 
            "source": ""
        }
    ], 
    "metadata": {
        "kernelspec": {
            "display_name": "Python 3.6", 
            "name": "python3", 
            "language": "python"
        }, 
        "language_info": {
            "mimetype": "text/x-python", 
            "nbconvert_exporter": "python", 
            "version": "3.6.8", 
            "name": "python", 
            "file_extension": ".py", 
            "pygments_lexer": "ipython3", 
            "codemirror_mode": {
                "version": 3, 
                "name": "ipython"
            }
        }
    }, 
    "nbformat": 4
}