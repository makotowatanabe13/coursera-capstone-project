{
    "nbformat_minor": 1, 
    "cells": [
        {
            "source": "#Applied Data Science Capstone Week 3", 
            "cell_type": "markdown", 
            "metadata": {
                "collapsed": true
            }
        }, 
        {
            "execution_count": 1, 
            "cell_type": "code", 
            "metadata": {}, 
            "outputs": [], 
            "source": "from bs4 import BeautifulSoup\nimport pandas as pd"
        }, 
        {
            "execution_count": 2, 
            "cell_type": "code", 
            "metadata": {}, 
            "outputs": [], 
            "source": "!wget -q -O 'List_of_postal_codes_of_Canada.html' https://en.wikipedia.org/wiki/List_of_postal_codes_of_Canada:_M"
        }, 
        {
            "execution_count": 3, 
            "cell_type": "code", 
            "metadata": {}, 
            "outputs": [], 
            "source": "with open('List_of_postal_codes_of_Canada.html') as html_file:\n    soup = BeautifulSoup(html_file,\"lxml\")"
        }, 
        {
            "source": "# My assumptions\nThere is only a table tag in the wiki page.\nText in table's cell is in &lt;td&gt;abc&lt;/td&gt; or &lt;td&gt;&lt;a&gt;abc&lt;/a&gt;&lt;/td&gt;.", 
            "cell_type": "markdown", 
            "metadata": {}
        }, 
        {
            "execution_count": 4, 
            "cell_type": "code", 
            "metadata": {
                "scrolled": true
            }, 
            "outputs": [], 
            "source": "table_tag = soup.table\nfirst_row = table_tag.find('tr')\ntable_header=[ th.string for th in first_row.find_all('th')]\ntable_values = []\n\nnot_assigned = 'Not assigned'\n\n\ndef get_text_in_tag(tag):\n    \"\"\"\n    get text in like <td>aaa</td> or <td><a>aaa</a></td> from argument tag.\n    \"\"\"\n    if tag.string is not None:\n        return tag.string\n    else:\n        return tag.find('a').string\n\n                             "
        }, 
        {
            "source": "Read the 2nd or later rows in table and create dictionary.<br/>\nWhen postalcode as key is in dictionary alaready, add Neighbourhood to array in value of dictionary.", 
            "cell_type": "markdown", 
            "metadata": {}
        }, 
        {
            "execution_count": 5, 
            "cell_type": "code", 
            "metadata": {}, 
            "outputs": [], 
            "source": "postcode_dict = {} \nfor tr in first_row.find_next_siblings():\n    row = [ get_text_in_tag(td) if td.string is None else td.string.strip() for td in tr.find_all('td')]\n\n    if row[1] == not_assigned:\n        continue\n    elif row[2] == not_assigned:\n        postcode_dict.setdefault(row[0],  [row[1] ,[] ] )[1].append(row[1])\n    else:\n        postcode_dict.setdefault(row[0],  [row[1] ,[] ] )[1].append(row[2])\n        \ndata_src = [ [key, value[0], ','.join(value[1]) ] for key,value in postcode_dict.items()]     "
        }, 
        {
            "source": "Create DataFrame and show it.", 
            "cell_type": "markdown", 
            "metadata": {}
        }, 
        {
            "execution_count": 6, 
            "cell_type": "code", 
            "metadata": {
                "scrolled": true
            }, 
            "outputs": [
                {
                    "output_type": "display_data", 
                    "data": {
                        "text/html": "<div>\n<style scoped>\n    .dataframe tbody tr th:only-of-type {\n        vertical-align: middle;\n    }\n\n    .dataframe tbody tr th {\n        vertical-align: top;\n    }\n\n    .dataframe thead th {\n        text-align: right;\n    }\n</style>\n<table border=\"1\" class=\"dataframe\">\n  <thead>\n    <tr style=\"text-align: right;\">\n      <th></th>\n      <th>Postcode</th>\n      <th>Borough</th>\n      <th>Neighbourhood</th>\n    </tr>\n  </thead>\n  <tbody>\n    <tr>\n      <th>0</th>\n      <td>M6M</td>\n      <td>York</td>\n      <td>Del Ray,Keelesdale,Mount Dennis,Silverthorn</td>\n    </tr>\n    <tr>\n      <th>1</th>\n      <td>M3N</td>\n      <td>North York</td>\n      <td>Downsview Northwest</td>\n    </tr>\n    <tr>\n      <th>2</th>\n      <td>M4G</td>\n      <td>East York</td>\n      <td>Leaside</td>\n    </tr>\n    <tr>\n      <th>3</th>\n      <td>M5E</td>\n      <td>Downtown Toronto</td>\n      <td>Berczy Park</td>\n    </tr>\n    <tr>\n      <th>4</th>\n      <td>M4H</td>\n      <td>East York</td>\n      <td>Thorncliffe Park</td>\n    </tr>\n    <tr>\n      <th>5</th>\n      <td>M2L</td>\n      <td>North York</td>\n      <td>Silver Hills,York Mills</td>\n    </tr>\n    <tr>\n      <th>6</th>\n      <td>M9R</td>\n      <td>Etobicoke</td>\n      <td>Kingsview Village,Martin Grove Gardens,Richvie...</td>\n    </tr>\n    <tr>\n      <th>7</th>\n      <td>M3A</td>\n      <td>North York</td>\n      <td>Parkwoods</td>\n    </tr>\n    <tr>\n      <th>8</th>\n      <td>M2R</td>\n      <td>North York</td>\n      <td>Willowdale West</td>\n    </tr>\n    <tr>\n      <th>9</th>\n      <td>M4Y</td>\n      <td>Downtown Toronto</td>\n      <td>Church and Wellesley</td>\n    </tr>\n    <tr>\n      <th>10</th>\n      <td>M2K</td>\n      <td>North York</td>\n      <td>Bayview Village</td>\n    </tr>\n    <tr>\n      <th>11</th>\n      <td>M3C</td>\n      <td>North York</td>\n      <td>Flemingdon Park,Don Mills South</td>\n    </tr>\n    <tr>\n      <th>12</th>\n      <td>M9N</td>\n      <td>York</td>\n      <td>Weston</td>\n    </tr>\n    <tr>\n      <th>13</th>\n      <td>M4X</td>\n      <td>Downtown Toronto</td>\n      <td>Cabbagetown,St. James Town</td>\n    </tr>\n    <tr>\n      <th>14</th>\n      <td>M4L</td>\n      <td>East Toronto</td>\n      <td>The Beaches West,India Bazaar</td>\n    </tr>\n    <tr>\n      <th>15</th>\n      <td>M4E</td>\n      <td>East Toronto</td>\n      <td>The Beaches</td>\n    </tr>\n    <tr>\n      <th>16</th>\n      <td>M1K</td>\n      <td>Scarborough</td>\n      <td>East Birchmount Park,Ionview,Kennedy Park</td>\n    </tr>\n    <tr>\n      <th>17</th>\n      <td>M2J</td>\n      <td>North York</td>\n      <td>Fairview,Henry Farm,Oriole</td>\n    </tr>\n    <tr>\n      <th>18</th>\n      <td>M4P</td>\n      <td>Central Toronto</td>\n      <td>Davisville North</td>\n    </tr>\n    <tr>\n      <th>19</th>\n      <td>M2P</td>\n      <td>North York</td>\n      <td>York Mills West</td>\n    </tr>\n    <tr>\n      <th>20</th>\n      <td>M6H</td>\n      <td>West Toronto</td>\n      <td>Dovercourt Village,Dufferin</td>\n    </tr>\n    <tr>\n      <th>21</th>\n      <td>M5J</td>\n      <td>Downtown Toronto</td>\n      <td>Harbourfront East,Toronto Islands,Union Station</td>\n    </tr>\n    <tr>\n      <th>22</th>\n      <td>M5G</td>\n      <td>Downtown Toronto</td>\n      <td>Central Bay Street</td>\n    </tr>\n    <tr>\n      <th>23</th>\n      <td>M1N</td>\n      <td>Scarborough</td>\n      <td>Birch Cliff,Cliffside West</td>\n    </tr>\n    <tr>\n      <th>24</th>\n      <td>M9A</td>\n      <td>Etobicoke</td>\n      <td>Islington Avenue</td>\n    </tr>\n    <tr>\n      <th>25</th>\n      <td>M8Z</td>\n      <td>Etobicoke</td>\n      <td>Kingsway Park South West,Mimico NW,The Queensw...</td>\n    </tr>\n    <tr>\n      <th>26</th>\n      <td>M8V</td>\n      <td>Etobicoke</td>\n      <td>Humber Bay Shores,Mimico South,New Toronto</td>\n    </tr>\n    <tr>\n      <th>27</th>\n      <td>M6N</td>\n      <td>York</td>\n      <td>The Junction North,Runnymede</td>\n    </tr>\n    <tr>\n      <th>28</th>\n      <td>M9W</td>\n      <td>Etobicoke</td>\n      <td>Northwest</td>\n    </tr>\n    <tr>\n      <th>29</th>\n      <td>M9P</td>\n      <td>Etobicoke</td>\n      <td>Westmount</td>\n    </tr>\n    <tr>\n      <th>...</th>\n      <td>...</td>\n      <td>...</td>\n      <td>...</td>\n    </tr>\n    <tr>\n      <th>73</th>\n      <td>M1C</td>\n      <td>Scarborough</td>\n      <td>Highland Creek,Rouge Hill,Port Union</td>\n    </tr>\n    <tr>\n      <th>74</th>\n      <td>M1X</td>\n      <td>Scarborough</td>\n      <td>Upper Rouge</td>\n    </tr>\n    <tr>\n      <th>75</th>\n      <td>M1J</td>\n      <td>Scarborough</td>\n      <td>Scarborough Village</td>\n    </tr>\n    <tr>\n      <th>76</th>\n      <td>M8X</td>\n      <td>Etobicoke</td>\n      <td>The Kingsway,Montgomery Road,Old Mill North</td>\n    </tr>\n    <tr>\n      <th>77</th>\n      <td>M4V</td>\n      <td>Central Toronto</td>\n      <td>Deer Park,Forest Hill SE,Rathnelly,South Hill,...</td>\n    </tr>\n    <tr>\n      <th>78</th>\n      <td>M6J</td>\n      <td>West Toronto</td>\n      <td>Little Portugal,Trinity</td>\n    </tr>\n    <tr>\n      <th>79</th>\n      <td>M5K</td>\n      <td>Downtown Toronto</td>\n      <td>Design Exchange,Toronto Dominion Centre</td>\n    </tr>\n    <tr>\n      <th>80</th>\n      <td>M5P</td>\n      <td>Central Toronto</td>\n      <td>Forest Hill North,Forest Hill West</td>\n    </tr>\n    <tr>\n      <th>81</th>\n      <td>M5R</td>\n      <td>Central Toronto</td>\n      <td>The Annex,North Midtown,Yorkville</td>\n    </tr>\n    <tr>\n      <th>82</th>\n      <td>M3L</td>\n      <td>North York</td>\n      <td>Downsview West</td>\n    </tr>\n    <tr>\n      <th>83</th>\n      <td>M6P</td>\n      <td>West Toronto</td>\n      <td>High Park,The Junction South</td>\n    </tr>\n    <tr>\n      <th>84</th>\n      <td>M5N</td>\n      <td>Central Toronto</td>\n      <td>Roselawn</td>\n    </tr>\n    <tr>\n      <th>85</th>\n      <td>M1T</td>\n      <td>Scarborough</td>\n      <td>Clarks Corners,Sullivan,Tam O'Shanter</td>\n    </tr>\n    <tr>\n      <th>86</th>\n      <td>M6E</td>\n      <td>York</td>\n      <td>Caledonia-Fairbanks</td>\n    </tr>\n    <tr>\n      <th>87</th>\n      <td>M6B</td>\n      <td>North York</td>\n      <td>Glencairn</td>\n    </tr>\n    <tr>\n      <th>88</th>\n      <td>M4K</td>\n      <td>East Toronto</td>\n      <td>The Danforth West,Riverdale</td>\n    </tr>\n    <tr>\n      <th>89</th>\n      <td>M9B</td>\n      <td>Etobicoke</td>\n      <td>Cloverdale,Islington,Martin Grove,Princess Gar...</td>\n    </tr>\n    <tr>\n      <th>90</th>\n      <td>M1P</td>\n      <td>Scarborough</td>\n      <td>Dorset Park,Scarborough Town Centre,Wexford He...</td>\n    </tr>\n    <tr>\n      <th>91</th>\n      <td>M5W</td>\n      <td>Downtown Toronto</td>\n      <td>Stn A PO Boxes 25 The Esplanade</td>\n    </tr>\n    <tr>\n      <th>92</th>\n      <td>M5X</td>\n      <td>Downtown Toronto</td>\n      <td>First Canadian Place,Underground city</td>\n    </tr>\n    <tr>\n      <th>93</th>\n      <td>M4T</td>\n      <td>Central Toronto</td>\n      <td>Moore Park,Summerhill East</td>\n    </tr>\n    <tr>\n      <th>94</th>\n      <td>M5T</td>\n      <td>Downtown Toronto</td>\n      <td>Chinatown,Grange Park,Kensington Market</td>\n    </tr>\n    <tr>\n      <th>95</th>\n      <td>M3M</td>\n      <td>North York</td>\n      <td>Downsview Central</td>\n    </tr>\n    <tr>\n      <th>96</th>\n      <td>M9L</td>\n      <td>North York</td>\n      <td>Humber Summit</td>\n    </tr>\n    <tr>\n      <th>97</th>\n      <td>M8W</td>\n      <td>Etobicoke</td>\n      <td>Alderwood,Long Branch</td>\n    </tr>\n    <tr>\n      <th>98</th>\n      <td>M1S</td>\n      <td>Scarborough</td>\n      <td>Agincourt</td>\n    </tr>\n    <tr>\n      <th>99</th>\n      <td>M5M</td>\n      <td>North York</td>\n      <td>Bedford Park,Lawrence Manor East</td>\n    </tr>\n    <tr>\n      <th>100</th>\n      <td>M1H</td>\n      <td>Scarborough</td>\n      <td>Cedarbrae</td>\n    </tr>\n    <tr>\n      <th>101</th>\n      <td>M2M</td>\n      <td>North York</td>\n      <td>Newtonbrook,Willowdale</td>\n    </tr>\n    <tr>\n      <th>102</th>\n      <td>M6G</td>\n      <td>Downtown Toronto</td>\n      <td>Christie</td>\n    </tr>\n  </tbody>\n</table>\n<p>103 rows \u00d7 3 columns</p>\n</div>", 
                        "text/plain": "    Postcode           Borough  \\\n0        M6M              York   \n1        M3N        North York   \n2        M4G         East York   \n3        M5E  Downtown Toronto   \n4        M4H         East York   \n5        M2L        North York   \n6        M9R         Etobicoke   \n7        M3A        North York   \n8        M2R        North York   \n9        M4Y  Downtown Toronto   \n10       M2K        North York   \n11       M3C        North York   \n12       M9N              York   \n13       M4X  Downtown Toronto   \n14       M4L      East Toronto   \n15       M4E      East Toronto   \n16       M1K       Scarborough   \n17       M2J        North York   \n18       M4P   Central Toronto   \n19       M2P        North York   \n20       M6H      West Toronto   \n21       M5J  Downtown Toronto   \n22       M5G  Downtown Toronto   \n23       M1N       Scarborough   \n24       M9A         Etobicoke   \n25       M8Z         Etobicoke   \n26       M8V         Etobicoke   \n27       M6N              York   \n28       M9W         Etobicoke   \n29       M9P         Etobicoke   \n..       ...               ...   \n73       M1C       Scarborough   \n74       M1X       Scarborough   \n75       M1J       Scarborough   \n76       M8X         Etobicoke   \n77       M4V   Central Toronto   \n78       M6J      West Toronto   \n79       M5K  Downtown Toronto   \n80       M5P   Central Toronto   \n81       M5R   Central Toronto   \n82       M3L        North York   \n83       M6P      West Toronto   \n84       M5N   Central Toronto   \n85       M1T       Scarborough   \n86       M6E              York   \n87       M6B        North York   \n88       M4K      East Toronto   \n89       M9B         Etobicoke   \n90       M1P       Scarborough   \n91       M5W  Downtown Toronto   \n92       M5X  Downtown Toronto   \n93       M4T   Central Toronto   \n94       M5T  Downtown Toronto   \n95       M3M        North York   \n96       M9L        North York   \n97       M8W         Etobicoke   \n98       M1S       Scarborough   \n99       M5M        North York   \n100      M1H       Scarborough   \n101      M2M        North York   \n102      M6G  Downtown Toronto   \n\n                                        Neighbourhood\n  \n0          Del Ray,Keelesdale,Mount Dennis,Silverthorn  \n1                                  Downsview Northwest  \n2                                              Leaside  \n3                                          Berczy Park  \n4                                     Thorncliffe Park  \n5                              Silver Hills,York Mills  \n6    Kingsview Village,Martin Grove Gardens,Richvie...  \n7                                            Parkwoods  \n8                                      Willowdale West  \n9                                 Church and Wellesley  \n10                                     Bayview Village  \n11                     Flemingdon Park,Don Mills South  \n12                                              Weston  \n13                          Cabbagetown,St. James Town  \n14                       The Beaches West,India Bazaar  \n15                                         The Beaches  \n16           East Birchmount Park,Ionview,Kennedy Park  \n17                          Fairview,Henry Farm,Oriole  \n18                                    Davisville North  \n19                                     York Mills West  \n20                         Dovercourt Village,Dufferin  \n21     Harbourfront East,Toronto Islands,Union Station  \n22                                  Central Bay Street  \n23                          Birch Cliff,Cliffside West  \n24                                    Islington Avenue  \n25   Kingsway Park South West,Mimico NW,The Queensw...  \n26          Humber Bay Shores,Mimico South,New Toronto  \n27                        The Junction North,Runnymede  \n28                                           Northwest  \n29                                           Westmount  \n..                                                 ...  \n73                Highland Creek,Rouge Hill,Port Union  \n74                                         Upper Rouge  \n75                                 Scarborough Village  \n76         The Kingsway,Montgomery Road,Old Mill North  \n77   Deer Park,Forest Hill SE,Rathnelly,South Hill,...  \n78                             Little Portugal,Trinity  \n79             Design Exchange,Toronto Dominion Centre  \n80                  Forest Hill North,Forest Hill West  \n81                   The Annex,North Midtown,Yorkville  \n82                                      Downsview West  \n83                        High Park,The Junction South  \n84                                            Roselawn  \n85               Clarks Corners,Sullivan,Tam O'Shanter  \n86                                 Caledonia-Fairbanks  \n87                                           Glencairn  \n88                         The Danforth West,Riverdale  \n89   Cloverdale,Islington,Martin Grove,Princess Gar...  \n90   Dorset Park,Scarborough Town Centre,Wexford He...  \n91                     Stn A PO Boxes 25 The Esplanade  \n92               First Canadian Place,Underground city  \n93                          Moore Park,Summerhill East  \n94             Chinatown,Grange Park,Kensington Market  \n95                                   Downsview Central  \n96                                       Humber Summit  \n97                               Alderwood,Long Branch  \n98                                           Agincourt  \n99                    Bedford Park,Lawrence Manor East  \n100                                          Cedarbrae  \n101                             Newtonbrook,Willowdale  \n102                                           Christie  \n\n[103 rows x 3 columns]"
                    }, 
                    "metadata": {}
                }
            ], 
            "source": "df = pd.DataFrame(data_src, columns=table_header)\n\ndisplay(df)    "
        }, 
        {
            "execution_count": 7, 
            "cell_type": "code", 
            "metadata": {}, 
            "outputs": [
                {
                    "execution_count": 7, 
                    "metadata": {}, 
                    "data": {
                        "text/plain": "(103, 3)"
                    }, 
                    "output_type": "execute_result"
                }
            ], 
            "source": "df.shape"
        }, 
        {
            "source": "end", 
            "cell_type": "markdown", 
            "metadata": {}
        }
    ], 
    "metadata": {
        "kernelspec": {
            "display_name": "Python 3.5", 
            "name": "python3", 
            "language": "python"
        }, 
        "language_info": {
            "mimetype": "text/x-python", 
            "nbconvert_exporter": "python", 
            "version": "3.5.5", 
            "name": "python", 
            "file_extension": ".py", 
            "pygments_lexer": "ipython3", 
            "codemirror_mode": {
                "version": 3, 
                "name": "ipython"
            }
        }
    }, 
    "nbformat": 4
}